{
  "nbformat": 4,
  "nbformat_minor": 0,
  "metadata": {
    "colab": {
      "provenance": []
    },
    "kernelspec": {
      "name": "python3",
      "display_name": "Python 3"
    },
    "language_info": {
      "name": "python"
    }
  },
  "cells": [
    {
      "cell_type": "markdown",
      "source": [
        "# **PROJECT - LSTM BASED NEXT WORD PREDICTION DEEP LEARNING MODEL FOR TEXT GENERATION**"
      ],
      "metadata": {
        "id": "XmUBseOUWRNk"
      }
    },
    {
      "cell_type": "markdown",
      "source": [
        "\n",
        "## **Project Description**\n",
        "This project focuses on predicting the next word in a sequence using a deep learning model based on Long Short-Term Memory (LSTM) networks. By leveraging the sequential nature of text data, the model generates contextually relevant words, enabling applications like text completion and content generation.\n",
        "\n",
        "## **Dataset**\n",
        "\n",
        "We used a text dataset containing structured sentences for training. The dataset was preprocessed through:\n",
        "\n",
        "Tokenization and text cleaning (removal of special characters and lowercasing).\n",
        "Preparation of input-output pairs for supervised learning.\n",
        "One-hot encoding to map words into numerical form.\n",
        "\n",
        "## **Model Architecture**\n",
        "The model was implemented using TensorFlow and Keras, featuring:\n",
        "\n",
        "**Embedding Layer**: Converts words into dense vector representations.\n",
        "\n",
        "**LSTM Layers**: Captures sequential patterns and long-term dependencies.\n",
        "\n",
        "**Dense Output Layer**: Predicts the next word using softmax activation."
      ],
      "metadata": {
        "id": "JNVgurdTWTWB"
      }
    },
    {
      "cell_type": "markdown",
      "source": [
        "## Importing Necessary Libraries"
      ],
      "metadata": {
        "id": "dKB89A4uWbpO"
      }
    },
    {
      "cell_type": "code",
      "execution_count": 1,
      "metadata": {
        "id": "gOHuqmbnrFU0"
      },
      "outputs": [],
      "source": [
        "import numpy as np\n",
        "np.random.seed(42)\n",
        "import tensorflow as tf\n",
        "tf.random.set_seed(42)\n",
        "\n",
        "from tensorflow.keras.models import Sequential, load_model\n",
        "from tensorflow.keras.layers import Dense, LSTM, Dropout, Activation\n",
        "from tensorflow.keras.optimizers import RMSprop\n",
        "import matplotlib.pyplot as plt\n",
        "import pickle\n",
        "import heapq\n"
      ]
    },
    {
      "cell_type": "markdown",
      "source": [
        "## Loading Data"
      ],
      "metadata": {
        "id": "CCVdLawBWf1O"
      }
    },
    {
      "cell_type": "code",
      "source": [
        "import requests\n",
        "\n",
        "# URL of the text file\n",
        "url = 'https://raw.githubusercontent.com/harshawardhanchitnis/Project-Machine-Learning-LSTM-Based-Next-Word-Generation-Deep-Learning-Model-For-Text-Generation/b66d3af2e9ae6520ca979e452f84988e5c7a239a/LSTM%20Project%20Text.txt'\n",
        "\n",
        "# Send an HTTP request to the URL and retrieve the text content\n",
        "response = requests.get(url)\n",
        "\n",
        "# Check if the request was successful\n",
        "if response.status_code == 200:\n",
        "    text = response.text.lower()\n",
        "    print('corpus length:', len(text))\n",
        "else:\n",
        "    print('Failed to retrieve the text file from the URL.')\n"
      ],
      "metadata": {
        "colab": {
          "base_uri": "https://localhost:8080/"
        },
        "id": "lbXKhyMurGcZ",
        "outputId": "3a857776-7027-4168-89be-bb1c22b955b8"
      },
      "execution_count": 2,
      "outputs": [
        {
          "output_type": "stream",
          "name": "stdout",
          "text": [
            "corpus length: 594198\n"
          ]
        }
      ]
    },
    {
      "cell_type": "markdown",
      "source": [
        "## Data Processing"
      ],
      "metadata": {
        "id": "M58ukFCkWj5Y"
      }
    },
    {
      "cell_type": "code",
      "source": [
        "# Creating a list of unique characters and character indices\n",
        "character = sorted(list(set(text)))\n",
        "char_indices = dict((c, i) for i, c in enumerate(character))\n",
        "indices_char = dict((i, c) for i, c in enumerate(character))\n",
        "print(f'unique chars: {len(character)}')\n"
      ],
      "metadata": {
        "colab": {
          "base_uri": "https://localhost:8080/"
        },
        "id": "wExvQDyWrbsg",
        "outputId": "a42986f6-2a50-44f5-d682-21e95d25a626"
      },
      "execution_count": 3,
      "outputs": [
        {
          "output_type": "stream",
          "name": "stdout",
          "text": [
            "unique chars: 74\n"
          ]
        }
      ]
    },
    {
      "cell_type": "markdown",
      "source": [
        "## Chunking the Data into Sequences"
      ],
      "metadata": {
        "id": "jQhMxRwfWmal"
      }
    },
    {
      "cell_type": "code",
      "source": [
        "# chunk 40 characters with 3 sequences\n",
        "seq_len = 40\n",
        "step = 3\n",
        "sentences = []\n",
        "next_chars = []\n",
        "for i in range(0, len(text) - seq_len, step):\n",
        "    sentences.append(text[i: i + seq_len ])\n",
        "    next_chars.append(text[i + seq_len])\n",
        "print(f'num training examples: {len(sentences)}')\n"
      ],
      "metadata": {
        "colab": {
          "base_uri": "https://localhost:8080/"
        },
        "id": "2JBoKc_orcBg",
        "outputId": "e12797e1-0c95-44c8-c986-72ba41b72298"
      },
      "execution_count": 4,
      "outputs": [
        {
          "output_type": "stream",
          "name": "stdout",
          "text": [
            "num training examples: 198053\n"
          ]
        }
      ]
    },
    {
      "cell_type": "markdown",
      "source": [
        "## **One-Hot Encoding of the Data**"
      ],
      "metadata": {
        "id": "4DN_MbL9WpdW"
      }
    },
    {
      "cell_type": "code",
      "source": [
        "# One-hot encode the data\n",
        "X = np.zeros((len(sentences), seq_len, len(character)), dtype=bool)  # Use built-in bool instead of np.bool\n",
        "y = np.zeros((len(sentences), len(character)), dtype=bool)  # Use built-in bool instead of np.bool\n",
        "\n",
        "# One-hot encoding process\n",
        "for i, sentence in enumerate(sentences):\n",
        "    for t, char in enumerate(sentence):\n",
        "        X[i, t, char_indices[char]] = 1\n",
        "    y[i, char_indices[next_chars[i]]] = 1\n"
      ],
      "metadata": {
        "id": "6c1OaGsSrh_-"
      },
      "execution_count": 5,
      "outputs": []
    },
    {
      "cell_type": "markdown",
      "source": [
        "## **Creating the Model**"
      ],
      "metadata": {
        "id": "8U2Mr2jZWukM"
      }
    },
    {
      "cell_type": "code",
      "source": [
        "# Create the LSTM-based model\n",
        "model = Sequential()\n",
        "model.add(LSTM(128, input_shape=(seq_len, len(character))))\n",
        "model.add(Dense(len(character)))\n",
        "model.add(Activation('softmax'))\n",
        "\n",
        "# Summarize the model architecture\n",
        "model.summary()\n",
        "\n",
        "# Plot the model architecture\n",
        "from tensorflow.keras.utils import plot_model\n",
        "plot_model(model, show_shapes=True, to_file='model.png')\n"
      ],
      "metadata": {
        "colab": {
          "base_uri": "https://localhost:8080/",
          "height": 1000
        },
        "id": "p_DU3agvrjsX",
        "outputId": "897dd3e4-cc88-4421-a76a-0bf2b2c73cbf"
      },
      "execution_count": 6,
      "outputs": [
        {
          "output_type": "stream",
          "name": "stderr",
          "text": [
            "/usr/local/lib/python3.11/dist-packages/keras/src/layers/rnn/rnn.py:204: UserWarning: Do not pass an `input_shape`/`input_dim` argument to a layer. When using Sequential models, prefer using an `Input(shape)` object as the first layer in the model instead.\n",
            "  super().__init__(**kwargs)\n"
          ]
        },
        {
          "output_type": "display_data",
          "data": {
            "text/plain": [
              "\u001b[1mModel: \"sequential\"\u001b[0m\n"
            ],
            "text/html": [
              "<pre style=\"white-space:pre;overflow-x:auto;line-height:normal;font-family:Menlo,'DejaVu Sans Mono',consolas,'Courier New',monospace\"><span style=\"font-weight: bold\">Model: \"sequential\"</span>\n",
              "</pre>\n"
            ]
          },
          "metadata": {}
        },
        {
          "output_type": "display_data",
          "data": {
            "text/plain": [
              "┏━━━━━━━━━━━━━━━━━━━━━━━━━━━━━━━━━━━━━━┳━━━━━━━━━━━━━━━━━━━━━━━━━━━━━┳━━━━━━━━━━━━━━━━━┓\n",
              "┃\u001b[1m \u001b[0m\u001b[1mLayer (type)                        \u001b[0m\u001b[1m \u001b[0m┃\u001b[1m \u001b[0m\u001b[1mOutput Shape               \u001b[0m\u001b[1m \u001b[0m┃\u001b[1m \u001b[0m\u001b[1m        Param #\u001b[0m\u001b[1m \u001b[0m┃\n",
              "┡━━━━━━━━━━━━━━━━━━━━━━━━━━━━━━━━━━━━━━╇━━━━━━━━━━━━━━━━━━━━━━━━━━━━━╇━━━━━━━━━━━━━━━━━┩\n",
              "│ lstm (\u001b[38;5;33mLSTM\u001b[0m)                          │ (\u001b[38;5;45mNone\u001b[0m, \u001b[38;5;34m128\u001b[0m)                 │         \u001b[38;5;34m103,936\u001b[0m │\n",
              "├──────────────────────────────────────┼─────────────────────────────┼─────────────────┤\n",
              "│ dense (\u001b[38;5;33mDense\u001b[0m)                        │ (\u001b[38;5;45mNone\u001b[0m, \u001b[38;5;34m74\u001b[0m)                  │           \u001b[38;5;34m9,546\u001b[0m │\n",
              "├──────────────────────────────────────┼─────────────────────────────┼─────────────────┤\n",
              "│ activation (\u001b[38;5;33mActivation\u001b[0m)              │ (\u001b[38;5;45mNone\u001b[0m, \u001b[38;5;34m74\u001b[0m)                  │               \u001b[38;5;34m0\u001b[0m │\n",
              "└──────────────────────────────────────┴─────────────────────────────┴─────────────────┘\n"
            ],
            "text/html": [
              "<pre style=\"white-space:pre;overflow-x:auto;line-height:normal;font-family:Menlo,'DejaVu Sans Mono',consolas,'Courier New',monospace\">┏━━━━━━━━━━━━━━━━━━━━━━━━━━━━━━━━━━━━━━┳━━━━━━━━━━━━━━━━━━━━━━━━━━━━━┳━━━━━━━━━━━━━━━━━┓\n",
              "┃<span style=\"font-weight: bold\"> Layer (type)                         </span>┃<span style=\"font-weight: bold\"> Output Shape                </span>┃<span style=\"font-weight: bold\">         Param # </span>┃\n",
              "┡━━━━━━━━━━━━━━━━━━━━━━━━━━━━━━━━━━━━━━╇━━━━━━━━━━━━━━━━━━━━━━━━━━━━━╇━━━━━━━━━━━━━━━━━┩\n",
              "│ lstm (<span style=\"color: #0087ff; text-decoration-color: #0087ff\">LSTM</span>)                          │ (<span style=\"color: #00d7ff; text-decoration-color: #00d7ff\">None</span>, <span style=\"color: #00af00; text-decoration-color: #00af00\">128</span>)                 │         <span style=\"color: #00af00; text-decoration-color: #00af00\">103,936</span> │\n",
              "├──────────────────────────────────────┼─────────────────────────────┼─────────────────┤\n",
              "│ dense (<span style=\"color: #0087ff; text-decoration-color: #0087ff\">Dense</span>)                        │ (<span style=\"color: #00d7ff; text-decoration-color: #00d7ff\">None</span>, <span style=\"color: #00af00; text-decoration-color: #00af00\">74</span>)                  │           <span style=\"color: #00af00; text-decoration-color: #00af00\">9,546</span> │\n",
              "├──────────────────────────────────────┼─────────────────────────────┼─────────────────┤\n",
              "│ activation (<span style=\"color: #0087ff; text-decoration-color: #0087ff\">Activation</span>)              │ (<span style=\"color: #00d7ff; text-decoration-color: #00d7ff\">None</span>, <span style=\"color: #00af00; text-decoration-color: #00af00\">74</span>)                  │               <span style=\"color: #00af00; text-decoration-color: #00af00\">0</span> │\n",
              "└──────────────────────────────────────┴─────────────────────────────┴─────────────────┘\n",
              "</pre>\n"
            ]
          },
          "metadata": {}
        },
        {
          "output_type": "display_data",
          "data": {
            "text/plain": [
              "\u001b[1m Total params: \u001b[0m\u001b[38;5;34m113,482\u001b[0m (443.29 KB)\n"
            ],
            "text/html": [
              "<pre style=\"white-space:pre;overflow-x:auto;line-height:normal;font-family:Menlo,'DejaVu Sans Mono',consolas,'Courier New',monospace\"><span style=\"font-weight: bold\"> Total params: </span><span style=\"color: #00af00; text-decoration-color: #00af00\">113,482</span> (443.29 KB)\n",
              "</pre>\n"
            ]
          },
          "metadata": {}
        },
        {
          "output_type": "display_data",
          "data": {
            "text/plain": [
              "\u001b[1m Trainable params: \u001b[0m\u001b[38;5;34m113,482\u001b[0m (443.29 KB)\n"
            ],
            "text/html": [
              "<pre style=\"white-space:pre;overflow-x:auto;line-height:normal;font-family:Menlo,'DejaVu Sans Mono',consolas,'Courier New',monospace\"><span style=\"font-weight: bold\"> Trainable params: </span><span style=\"color: #00af00; text-decoration-color: #00af00\">113,482</span> (443.29 KB)\n",
              "</pre>\n"
            ]
          },
          "metadata": {}
        },
        {
          "output_type": "display_data",
          "data": {
            "text/plain": [
              "\u001b[1m Non-trainable params: \u001b[0m\u001b[38;5;34m0\u001b[0m (0.00 B)\n"
            ],
            "text/html": [
              "<pre style=\"white-space:pre;overflow-x:auto;line-height:normal;font-family:Menlo,'DejaVu Sans Mono',consolas,'Courier New',monospace\"><span style=\"font-weight: bold\"> Non-trainable params: </span><span style=\"color: #00af00; text-decoration-color: #00af00\">0</span> (0.00 B)\n",
              "</pre>\n"
            ]
          },
          "metadata": {}
        },
        {
          "output_type": "execute_result",
          "data": {
            "image/png": "[encoded data removed]",
            "text/plain": [
              "<IPython.core.display.Image object>"
            ]
          },
          "metadata": {},
          "execution_count": 6
        }
      ]
    },
    {
      "cell_type": "markdown",
      "source": [
        "## Training the Model"
      ],
      "metadata": {
        "id": "mq8m5Y-ZW1th"
      }
    },
    {
      "cell_type": "code",
      "source": [
        "# Compile and train the model\n",
        "optimizer = RMSprop(learning_rate=0.01)\n",
        "model.compile(loss='categorical_crossentropy', optimizer=optimizer, metrics=['accuracy'])\n",
        "history = model.fit(X, y,\n",
        "                    validation_split=0.01,\n",
        "                    batch_size=128,\n",
        "                    epochs=30,\n",
        "                    shuffle=True).history\n",
        "\n",
        "# Saving the model and history\n",
        "model.save('keras_model.h5')\n",
        "pickle.dump(history, open(\"history.p\", \"wb\"))\n",
        "\n",
        "# Loading the model and history\n",
        "model = load_model('keras_model.h5')\n",
        "history = pickle.load(open(\"history.p\", \"rb\"))\n"
      ],
      "metadata": {
        "colab": {
          "base_uri": "https://localhost:8080/"
        },
        "id": "pJAIzZVOrmXK",
        "outputId": "b29ce2ee-3441-412b-fb45-6795e8717206"
      },
      "execution_count": null,
      "outputs": [
        {
          "output_type": "stream",
          "name": "stdout",
          "text": [
            "Epoch 1/30\n",
            "\u001b[1m1532/1532\u001b[0m \u001b[32m━━━━━━━━━━━━━━━━━━━━\u001b[0m\u001b[37m\u001b[0m \u001b[1m197s\u001b[0m 127ms/step - accuracy: 0.3387 - loss: 2.3186 - val_accuracy: 0.4165 - val_loss: 2.1795\n",
            "Epoch 2/30\n",
            "\u001b[1m1532/1532\u001b[0m \u001b[32m━━━━━━━━━━━━━━━━━━━━\u001b[0m\u001b[37m\u001b[0m \u001b[1m203s\u001b[0m 128ms/step - accuracy: 0.4946 - loss: 1.6926 - val_accuracy: 0.4563 - val_loss: 1.9886\n",
            "Epoch 3/30\n",
            "\u001b[1m1532/1532\u001b[0m \u001b[32m━━━━━━━━━━━━━━━━━━━━\u001b[0m\u001b[37m\u001b[0m \u001b[1m201s\u001b[0m 128ms/step - accuracy: 0.5351 - loss: 1.5539 - val_accuracy: 0.4750 - val_loss: 1.9321\n",
            "Epoch 4/30\n",
            "\u001b[1m1532/1532\u001b[0m \u001b[32m━━━━━━━━━━━━━━━━━━━━\u001b[0m\u001b[37m\u001b[0m \u001b[1m205s\u001b[0m 129ms/step - accuracy: 0.5542 - loss: 1.4818 - val_accuracy: 0.4907 - val_loss: 1.9065\n",
            "Epoch 5/30\n",
            "\u001b[1m1532/1532\u001b[0m \u001b[32m━━━━━━━━━━━━━━━━━━━━\u001b[0m\u001b[37m\u001b[0m \u001b[1m202s\u001b[0m 130ms/step - accuracy: 0.5661 - loss: 1.4373 - val_accuracy: 0.5043 - val_loss: 1.8896\n",
            "Epoch 6/30\n",
            "\u001b[1m1532/1532\u001b[0m \u001b[32m━━━━━━━━━━━━━━━━━━━━\u001b[0m\u001b[37m\u001b[0m \u001b[1m200s\u001b[0m 128ms/step - accuracy: 0.5736 - loss: 1.4089 - val_accuracy: 0.4942 - val_loss: 1.9193\n",
            "Epoch 7/30\n",
            "\u001b[1m1532/1532\u001b[0m \u001b[32m━━━━━━━━━━━━━━━━━━━━\u001b[0m\u001b[37m\u001b[0m \u001b[1m203s\u001b[0m 129ms/step - accuracy: 0.5800 - loss: 1.3871 - val_accuracy: 0.5033 - val_loss: 1.9064\n",
            "Epoch 8/30\n",
            "\u001b[1m1532/1532\u001b[0m \u001b[32m━━━━━━━━━━━━━━━━━━━━\u001b[0m\u001b[37m\u001b[0m \u001b[1m202s\u001b[0m 129ms/step - accuracy: 0.5843 - loss: 1.3710 - val_accuracy: 0.5109 - val_loss: 1.9046\n",
            "Epoch 9/30\n",
            "\u001b[1m1532/1532\u001b[0m \u001b[32m━━━━━━━━━━━━━━━━━━━━\u001b[0m\u001b[37m\u001b[0m \u001b[1m196s\u001b[0m 128ms/step - accuracy: 0.5876 - loss: 1.3599 - val_accuracy: 0.4992 - val_loss: 1.9160\n",
            "Epoch 10/30\n",
            "\u001b[1m1532/1532\u001b[0m \u001b[32m━━━━━━━━━━━━━━━━━━━━\u001b[0m\u001b[37m\u001b[0m \u001b[1m203s\u001b[0m 129ms/step - accuracy: 0.5894 - loss: 1.3490 - val_accuracy: 0.5033 - val_loss: 1.9256\n",
            "Epoch 11/30\n",
            "\u001b[1m1532/1532\u001b[0m \u001b[32m━━━━━━━━━━━━━━━━━━━━\u001b[0m\u001b[37m\u001b[0m \u001b[1m198s\u001b[0m 127ms/step - accuracy: 0.5909 - loss: 1.3385 - val_accuracy: 0.4917 - val_loss: 1.9437\n",
            "Epoch 12/30\n",
            "\u001b[1m1532/1532\u001b[0m \u001b[32m━━━━━━━━━━━━━━━━━━━━\u001b[0m\u001b[37m\u001b[0m \u001b[1m196s\u001b[0m 128ms/step - accuracy: 0.5954 - loss: 1.3297 - val_accuracy: 0.5103 - val_loss: 1.9418\n",
            "Epoch 13/30\n",
            "\u001b[1m1532/1532\u001b[0m \u001b[32m━━━━━━━━━━━━━━━━━━━━\u001b[0m\u001b[37m\u001b[0m \u001b[1m215s\u001b[0m 136ms/step - accuracy: 0.5960 - loss: 1.3242 - val_accuracy: 0.4972 - val_loss: 1.9430\n",
            "Epoch 14/30\n",
            "\u001b[1m1532/1532\u001b[0m \u001b[32m━━━━━━━━━━━━━━━━━━━━\u001b[0m\u001b[37m\u001b[0m \u001b[1m198s\u001b[0m 129ms/step - accuracy: 0.5982 - loss: 1.3167 - val_accuracy: 0.5068 - val_loss: 1.9618\n",
            "Epoch 15/30\n",
            "\u001b[1m1532/1532\u001b[0m \u001b[32m━━━━━━━━━━━━━━━━━━━━\u001b[0m\u001b[37m\u001b[0m \u001b[1m202s\u001b[0m 129ms/step - accuracy: 0.5993 - loss: 1.3115 - val_accuracy: 0.5028 - val_loss: 1.9953\n",
            "Epoch 16/30\n",
            "\u001b[1m1532/1532\u001b[0m \u001b[32m━━━━━━━━━━━━━━━━━━━━\u001b[0m\u001b[37m\u001b[0m \u001b[1m200s\u001b[0m 130ms/step - accuracy: 0.6013 - loss: 1.3057 - val_accuracy: 0.4987 - val_loss: 1.9717\n",
            "Epoch 17/30\n",
            "\u001b[1m1532/1532\u001b[0m \u001b[32m━━━━━━━━━━━━━━━━━━━━\u001b[0m\u001b[37m\u001b[0m \u001b[1m193s\u001b[0m 126ms/step - accuracy: 0.6005 - loss: 1.3002 - val_accuracy: 0.5043 - val_loss: 1.9575\n",
            "Epoch 18/30\n",
            "\u001b[1m1532/1532\u001b[0m \u001b[32m━━━━━━━━━━━━━━━━━━━━\u001b[0m\u001b[37m\u001b[0m \u001b[1m207s\u001b[0m 129ms/step - accuracy: 0.6032 - loss: 1.2943 - val_accuracy: 0.5028 - val_loss: 1.9547\n",
            "Epoch 19/30\n",
            "\u001b[1m 776/1532\u001b[0m \u001b[32m━━━━━━━━━━\u001b[0m\u001b[37m━━━━━━━━━━\u001b[0m \u001b[1m1:37\u001b[0m 129ms/step - accuracy: 0.6054 - loss: 1.2925"
          ]
        }
      ]
    },
    {
      "cell_type": "markdown",
      "source": [
        "##  Model Evaluation"
      ],
      "metadata": {
        "id": "zWy_70FsW5rV"
      }
    },
    {
      "cell_type": "code",
      "source": [
        "# Evaluate the model\n",
        "loss_and_acc = model.evaluate(X, y)\n",
        "print(\"Test Loss\", loss_and_acc[0])\n",
        "print(\"Test Accuracy\", loss_and_acc[1])\n",
        "\n",
        "# Plot training & validation accuracy and loss\n",
        "acc = history['accuracy']\n",
        "val_acc = history['val_accuracy']\n",
        "loss = history['loss']\n",
        "val_loss = history['val_loss']\n",
        "epochs = range(len(acc))\n",
        "\n",
        "fig, ax = plt.subplots(nrows=1, ncols=2, figsize=(20, 6))\n",
        "ax[0].plot(epochs, acc, 'r', label='Training accuracy')\n",
        "ax[0].plot(epochs, val_acc, 'b', label='Validation accuracy')\n",
        "ax[0].legend(loc=0)\n",
        "ax[1].plot(epochs, loss, 'r', label='Training loss')\n",
        "ax[1].plot(epochs, val_loss, 'b', label='Validation loss')\n",
        "ax[1].legend(loc=0)\n",
        "\n",
        "plt.suptitle('Training and validation')\n",
        "plt.show()\n"
      ],
      "metadata": {
        "id": "vY37cCUorpz8"
      },
      "execution_count": null,
      "outputs": []
    },
    {
      "cell_type": "markdown",
      "source": [
        "## Preparing the Input for Prediction"
      ],
      "metadata": {
        "id": "77AVyP34W81M"
      }
    },
    {
      "cell_type": "code",
      "source": [
        "# Prepare the input text for the model\n",
        "def prepare_input(text):\n",
        "    x = np.zeros((1, seq_len, len(character)))\n",
        "    for t, char in enumerate(text):\n",
        "        x[0, t, char_indices[char]] = 1.\n",
        "    return x\n"
      ],
      "metadata": {
        "id": "oSB_VpYl0kH_"
      },
      "execution_count": 9,
      "outputs": []
    },
    {
      "cell_type": "markdown",
      "source": [
        "## Sampling Function for Prediction"
      ],
      "metadata": {
        "id": "Yil8S-nJW_Xc"
      }
    },
    {
      "cell_type": "code",
      "source": [
        "# Sample function to predict based on the model output\n",
        "def sample(preds, top_n=3):\n",
        "    preds = np.asarray(preds).astype('float64')\n",
        "    preds = np.log(preds)\n",
        "    exp_preds = np.exp(preds)\n",
        "    preds = exp_preds / np.sum(exp_preds)\n",
        "    return heapq.nlargest(top_n, range(len(preds)), preds.take)\n"
      ],
      "metadata": {
        "id": "mprHgMFtU-Jx"
      },
      "execution_count": 10,
      "outputs": []
    },
    {
      "cell_type": "markdown",
      "source": [
        "## Predicting Text Completion"
      ],
      "metadata": {
        "id": "SiCmzKxRXCPQ"
      }
    },
    {
      "cell_type": "code",
      "source": [
        "# Predict completion of the given text\n",
        "def predict_completion(text):\n",
        "    original_text = text\n",
        "    generated = text\n",
        "    completion = ''\n",
        "    while True:\n",
        "        x = prepare_input(text)\n",
        "        preds = model.predict(x, verbose=0)[0]\n",
        "        next_index = sample(preds, top_n=1)[0]\n",
        "        next_char = indices_char[next_index]\n",
        "        text = text[1:] + next_char\n",
        "        completion += next_char\n",
        "\n",
        "        if len(original_text + completion) + 2 > len(original_text) and next_char == ' ':\n",
        "            return completion\n"
      ],
      "metadata": {
        "id": "R5aYoHAyVACQ"
      },
      "execution_count": 11,
      "outputs": []
    },
    {
      "cell_type": "markdown",
      "source": [
        "## Predicting Multiple Completions"
      ],
      "metadata": {
        "id": "zlOjGmOWXFvR"
      }
    },
    {
      "cell_type": "code",
      "source": [
        "def predict_completions(text, n=3, temperature=1.0):\n",
        "    x = prepare_input(text)\n",
        "    preds = model.predict(x, verbose=0)[0]\n",
        "\n",
        "    # Adjust predictions using the temperature\n",
        "    preds = np.asarray(preds).astype('float64')\n",
        "    preds = np.log(preds + 1e-7) / temperature  # Add small value to avoid log(0)\n",
        "    exp_preds = np.exp(preds)\n",
        "    preds = exp_preds / np.sum(exp_preds)\n",
        "\n",
        "    # Get the top n predictions\n",
        "    next_indices = heapq.nlargest(n, range(len(preds)), preds.take)\n",
        "    return [indices_char[idx] + predict_completion(text[1:] + indices_char[idx]) for idx in next_indices]\n"
      ],
      "metadata": {
        "id": "fitZdK5SVCFw"
      },
      "execution_count": 14,
      "outputs": []
    },
    {
      "cell_type": "markdown",
      "source": [
        "## Testing Predictions"
      ],
      "metadata": {
        "id": "jv4AsHBgXJR1"
      }
    },
    {
      "cell_type": "code",
      "source": [
        "# Example input sequences for predictions\n",
        "quotes = [\n",
        "    \"Deep learning is subset of machine learning,which is essentially a neural network with three or more layers.\",\n",
        "    \"Machine learning  is the study of computer algorithms that improve automatically through experience and by the use of data.\",\n",
        "    \"It is not a lack of love, but a lack of friendship that makes unhappy marriages.\",\n",
        "    \"Recurrent neural network (RNN) is a type of artificial neural network which uses sequential data or time series data.\",\n",
        "    \"Thanks for spending your precious time to view my work.\"\n",
        "]\n",
        "\n",
        "# Generating predictions for each input sequence\n",
        "for q in quotes:\n",
        "    seq = q[:40].lower()  # Use the first 40 characters for prediction\n",
        "    print(\"Input Sequence: \", seq)\n",
        "    completions = predict_completions(seq, n=5, temperature=0.7)  # Add temperature parameter\n",
        "    for i, completion in enumerate(completions, 1):\n",
        "        print(f\"Prediction {i}: {completion}\")\n",
        "    print()\n"
      ],
      "metadata": {
        "colab": {
          "base_uri": "https://localhost:8080/"
        },
        "id": "FfZRQ6JBVEq2",
        "outputId": "dd994345-7c68-4320-9665-d2305f33ea7a"
      },
      "execution_count": 15,
      "outputs": [
        {
          "output_type": "stream",
          "name": "stdout",
          "text": [
            "Input Sequence:  deep learning is subset of machine learn\n",
            "Prediction 1: ed \n",
            "Prediction 2:  the \n",
            "Prediction 3: ory. \n",
            "Prediction 4: abless \n",
            "Prediction 5: ing \n",
            "\n",
            "Input Sequence:  machine learning  is the study of comput\n",
            "Prediction 1: ion \n",
            "Prediction 2: hy \n",
            "Prediction 3: s, \n",
            "Prediction 4:  the \n",
            "Prediction 5: ation \n",
            "\n",
            "Input Sequence:  it is not a lack of love, but a lack of \n",
            "Prediction 1: the \n",
            "Prediction 2: a \n",
            "Prediction 3: his \n",
            "Prediction 4: secioned \n",
            "Prediction 5: burning \n",
            "\n",
            "Input Sequence:  recurrent neural network (rnn) is a type\n",
            "Prediction 1: mist \n",
            "Prediction 2: ssice \n",
            "Prediction 3: cing \n",
            "Prediction 4: nty \n",
            "Prediction 5: ping \n",
            "\n",
            "Input Sequence:  thanks for spending your precious time t\n",
            "Prediction 1: hat \n",
            "Prediction 2: o \n",
            "Prediction 3: imm \n",
            "Prediction 4: ranberess \n",
            "Prediction 5: ack \n",
            "\n"
          ]
        }
      ]
    },
    {
      "cell_type": "markdown",
      "source": [
        "# **SUMMARY :**\n",
        "## **This project focused on building an LSTM-based text generation model to predict text sequences. We preprocessed the data, implemented one-hot encoding, and created training sequences. The LSTM model, trained with categorical cross-entropy loss and RMSprop optimizer, demonstrated its ability to learn patterns in the text.**"
      ],
      "metadata": {
        "id": "86-yS9O-X9fQ"
      }
    },
    {
      "cell_type": "markdown",
      "source": [
        "# **CLOSING REMARK :**\n",
        "## **This project showcased the power of LSTM networks in natural language processing. Despite some limitations, it provided a strong foundation for understanding text generation tasks. Future improvements, such as using larger datasets and advanced tuning, could make the model more robust and versatile for practical applications like chatbots and automated writing tools.**"
      ],
      "metadata": {
        "id": "e2JopoVaYJQV"
      }
    }
  ]
}